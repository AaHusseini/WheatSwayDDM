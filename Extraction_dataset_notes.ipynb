{
 "cells": [
  {
   "cell_type": "markdown",
   "metadata": {},
   "source": [
    "# Extraction of the dataset "
   ]
  },
  {
   "cell_type": "markdown",
   "metadata": {},
   "source": [
    "Code to log onto the airdata website and extract information to be stored onto a database. "
   ]
  },
  {
   "cell_type": "code",
   "execution_count": 1,
   "metadata": {},
   "outputs": [],
   "source": [
    "import selenium \n",
    "\n",
    "from selenium import webdriver\n",
    "from selenium.webdriver.chrome.service import Service\n",
    "from selenium.webdriver.chrome.options import Options\n",
    "from selenium.webdriver.common.keys import Keys\n",
    "from selenium.webdriver.common.by import By \n",
    "from selenium.webdriver.support.ui import WebDriverWait\n",
    "from selenium.webdriver.support import expected_conditions as EC\n",
    "from selenium.common.exceptions import TimeoutException\n",
    "\n",
    "import json, os"
   ]
  },
  {
   "cell_type": "code",
   "execution_count": 2,
   "metadata": {},
   "outputs": [],
   "source": [
    "import airdata_login"
   ]
  },
  {
   "cell_type": "code",
   "execution_count": 3,
   "metadata": {},
   "outputs": [],
   "source": [
    "# extract params\n",
    "login_URL = airdata_login.login_page_URL\n",
    "driver = airdata_login.driver "
   ]
  },
  {
   "cell_type": "code",
   "execution_count": 4,
   "metadata": {},
   "outputs": [
    {
     "name": "stdout",
     "output_type": "stream",
     "text": [
      "Cookies successfully saved.\n"
     ]
    }
   ],
   "source": [
    "# set login info\n",
    "# don't have to repeat this if already logged in once \n",
    "cookies_filename = 'login_11_2_2023_cookies.json'\n",
    "airdata_login.new_login_to_airdata(driver,login_URL,savecookies=True,cookies_filename=cookies_filename, login_details= ('pietro.cicuta@gmail.com','cicutadrone1'))"
   ]
  },
  {
   "cell_type": "code",
   "execution_count": 5,
   "metadata": {},
   "outputs": [],
   "source": [
    "# testing load_cookies \n",
    "cookies_filename = 'login_11_2_2023_cookies.json'\n",
    "driver.get(login_URL)\n",
    "airdata_login.load_cookies(driver, cookies_filename,login_URL)"
   ]
  },
  {
   "cell_type": "markdown",
   "metadata": {},
   "source": [
    "now navigate to the flight log page"
   ]
  },
  {
   "cell_type": "code",
   "execution_count": 6,
   "metadata": {},
   "outputs": [],
   "source": [
    "flight_log_URL = 'https://app.airdata.com/flight/last'\n",
    "driver.get(flight_log_URL)\n"
   ]
  },
  {
   "cell_type": "markdown",
   "metadata": {},
   "source": [
    "After inspection of the HTML of the flight logs page, it seems that the links are stored in a  DataTables structure that includes pagination for flight logs, along with a date and time for each flight. Goal is to extract the relevent info about each flight and keep track of the date and time of flight too so will store this in a pandas dataframe "
   ]
  },
  {
   "cell_type": "code",
   "execution_count": 7,
   "metadata": {},
   "outputs": [
    {
     "name": "stderr",
     "output_type": "stream",
     "text": [
      "/var/folders/tr/p_vqjwh57b3b1hc5glt23nnw0000gp/T/ipykernel_5635/4080736814.py:1: DeprecationWarning: \n",
      "Pyarrow will become a required dependency of pandas in the next major release of pandas (pandas 3.0),\n",
      "(to allow more performant data types, such as the Arrow string type, and better interoperability with other libraries)\n",
      "but was not found to be installed on your system.\n",
      "If this would cause problems for you,\n",
      "please provide us feedback at https://github.com/pandas-dev/pandas/issues/54466\n",
      "        \n",
      "  import pandas as pd\n"
     ]
    }
   ],
   "source": [
    "import pandas as pd"
   ]
  },
  {
   "cell_type": "code",
   "execution_count": 8,
   "metadata": {},
   "outputs": [
    {
     "data": {
      "text/html": [
       "<div>\n",
       "<style scoped>\n",
       "    .dataframe tbody tr th:only-of-type {\n",
       "        vertical-align: middle;\n",
       "    }\n",
       "\n",
       "    .dataframe tbody tr th {\n",
       "        vertical-align: top;\n",
       "    }\n",
       "\n",
       "    .dataframe thead th {\n",
       "        text-align: right;\n",
       "    }\n",
       "</style>\n",
       "<table border=\"1\" class=\"dataframe\">\n",
       "  <thead>\n",
       "    <tr style=\"text-align: right;\">\n",
       "      <th></th>\n",
       "      <th>Page URL</th>\n",
       "      <th>CSV Filename</th>\n",
       "    </tr>\n",
       "    <tr>\n",
       "      <th>Time</th>\n",
       "      <th></th>\n",
       "      <th></th>\n",
       "    </tr>\n",
       "  </thead>\n",
       "  <tbody>\n",
       "  </tbody>\n",
       "</table>\n",
       "</div>"
      ],
      "text/plain": [
       "Empty DataFrame\n",
       "Columns: [Page URL, CSV Filename]\n",
       "Index: []"
      ]
     },
     "execution_count": 8,
     "metadata": {},
     "output_type": "execute_result"
    }
   ],
   "source": [
    "flight_data_df = pd.DataFrame(columns=['Page URL', 'CSV Filename']).set_index(pd.Index([], name='Time'))\n",
    "\n",
    "flight_data_df"
   ]
  },
  {
   "cell_type": "code",
   "execution_count": 9,
   "metadata": {},
   "outputs": [],
   "source": [
    "from datetime import datetime"
   ]
  },
  {
   "cell_type": "code",
   "execution_count": 13,
   "metadata": {},
   "outputs": [
    {
     "ename": "ElementClickInterceptedException",
     "evalue": "Message: element click intercepted: Element <a class=\"paginate_button previous disabled\" aria-controls=\"item_list_dt\" data-dt-idx=\"0\" tabindex=\"0\" id=\"item_list_dt_previous\">...</a> is not clickable at point (34, 211). Other element would receive the click: <div id=\"div_empty2\" style=\"display: inline-block; position: absolute; height: 22px; width: 206px; z-index: 99; top: 201px; background-color: white; left: 21.8047px;\">...</div>\n  (Session info: chrome-headless-shell=121.0.6167.160)\nStacktrace:\n0   chromedriver                        0x0000000107106168 chromedriver + 4673896\n1   chromedriver                        0x00000001070fd9c3 chromedriver + 4639171\n2   chromedriver                        0x0000000106cf1fdd chromedriver + 397277\n3   chromedriver                        0x0000000106d44dee chromedriver + 736750\n4   chromedriver                        0x0000000106d42b6a chromedriver + 727914\n5   chromedriver                        0x0000000106d403ca chromedriver + 717770\n6   chromedriver                        0x0000000106d3f1a5 chromedriver + 713125\n7   chromedriver                        0x0000000106d326a7 chromedriver + 661159\n8   chromedriver                        0x0000000106d608c2 chromedriver + 850114\n9   chromedriver                        0x0000000106d32038 chromedriver + 659512\n10  chromedriver                        0x0000000106d60a7e chromedriver + 850558\n11  chromedriver                        0x0000000106d7f796 chromedriver + 976790\n12  chromedriver                        0x0000000106d60663 chromedriver + 849507\n13  chromedriver                        0x0000000106d301cf chromedriver + 651727\n14  chromedriver                        0x0000000106d311ae chromedriver + 655790\n15  chromedriver                        0x00000001070c6380 chromedriver + 4412288\n16  chromedriver                        0x00000001070cb798 chromedriver + 4433816\n17  chromedriver                        0x00000001070aad71 chromedriver + 4300145\n18  chromedriver                        0x00000001070cc4e6 chromedriver + 4437222\n19  chromedriver                        0x000000010709cd3c chromedriver + 4242748\n20  chromedriver                        0x00000001070ec208 chromedriver + 4567560\n21  chromedriver                        0x00000001070ec3be chromedriver + 4567998\n22  chromedriver                        0x00000001070fd603 chromedriver + 4638211\n23  libsystem_pthread.dylib             0x00007ff80916a1d3 _pthread_start + 125\n24  libsystem_pthread.dylib             0x00007ff809165bd3 thread_start + 15\n",
     "output_type": "error",
     "traceback": [
      "\u001b[0;31m---------------------------------------------------------------------------\u001b[0m",
      "\u001b[0;31mElementClickInterceptedException\u001b[0m          Traceback (most recent call last)",
      "\u001b[1;32m/Users/ayahusseini/Project/Database/Extraction_dataset.ipynb Cell 14\u001b[0m line \u001b[0;36m3\n\u001b[1;32m     <a href='vscode-notebook-cell:/Users/ayahusseini/Project/Database/Extraction_dataset.ipynb#X23sZmlsZQ%3D%3D?line=32'>33</a>\u001b[0m \u001b[39mfor\u001b[39;00m i \u001b[39min\u001b[39;00m \u001b[39mrange\u001b[39m(\u001b[39m1\u001b[39m, \u001b[39m4\u001b[39m):  \u001b[39m# Adjust the range as necessary for pagination\u001b[39;00m\n\u001b[1;32m     <a href='vscode-notebook-cell:/Users/ayahusseini/Project/Database/Extraction_dataset.ipynb#X23sZmlsZQ%3D%3D?line=33'>34</a>\u001b[0m     next_button \u001b[39m=\u001b[39m wait\u001b[39m.\u001b[39muntil(EC\u001b[39m.\u001b[39melement_to_be_clickable((By\u001b[39m.\u001b[39mCSS_SELECTOR, \u001b[39mf\u001b[39m\u001b[39m\"\u001b[39m\u001b[39m#item_list_dt_paginate .paginate_button:nth-child(\u001b[39m\u001b[39m{\u001b[39;00mi\u001b[39m}\u001b[39;00m\u001b[39m)\u001b[39m\u001b[39m\"\u001b[39m)))\n\u001b[0;32m---> <a href='vscode-notebook-cell:/Users/ayahusseini/Project/Database/Extraction_dataset.ipynb#X23sZmlsZQ%3D%3D?line=34'>35</a>\u001b[0m     next_button\u001b[39m.\u001b[39;49mclick()\n\u001b[1;32m     <a href='vscode-notebook-cell:/Users/ayahusseini/Project/Database/Extraction_dataset.ipynb#X23sZmlsZQ%3D%3D?line=35'>36</a>\u001b[0m     wait\u001b[39m.\u001b[39muntil(EC\u001b[39m.\u001b[39mvisibility_of_element_located((By\u001b[39m.\u001b[39mCSS_SELECTOR, \u001b[39m\"\u001b[39m\u001b[39m#item_list_dt tbody tr\u001b[39m\u001b[39m\"\u001b[39m)))\n\u001b[1;32m     <a href='vscode-notebook-cell:/Users/ayahusseini/Project/Database/Extraction_dataset.ipynb#X23sZmlsZQ%3D%3D?line=36'>37</a>\u001b[0m     flight_log_rows \u001b[39m=\u001b[39m wait\u001b[39m.\u001b[39muntil(EC\u001b[39m.\u001b[39mpresence_of_all_elements_located((By\u001b[39m.\u001b[39mCSS_SELECTOR, \u001b[39m\"\u001b[39m\u001b[39m#item_list_dt tbody tr\u001b[39m\u001b[39m\"\u001b[39m)))\n",
      "File \u001b[0;32m/Library/Frameworks/Python.framework/Versions/3.12/lib/python3.12/site-packages/selenium/webdriver/remote/webelement.py:94\u001b[0m, in \u001b[0;36mWebElement.click\u001b[0;34m(self)\u001b[0m\n\u001b[1;32m     92\u001b[0m \u001b[39mdef\u001b[39;00m \u001b[39mclick\u001b[39m(\u001b[39mself\u001b[39m) \u001b[39m-\u001b[39m\u001b[39m>\u001b[39m \u001b[39mNone\u001b[39;00m:\n\u001b[1;32m     93\u001b[0m \u001b[39m    \u001b[39m\u001b[39m\"\"\"Clicks the element.\"\"\"\u001b[39;00m\n\u001b[0;32m---> 94\u001b[0m     \u001b[39mself\u001b[39;49m\u001b[39m.\u001b[39;49m_execute(Command\u001b[39m.\u001b[39;49mCLICK_ELEMENT)\n",
      "File \u001b[0;32m/Library/Frameworks/Python.framework/Versions/3.12/lib/python3.12/site-packages/selenium/webdriver/remote/webelement.py:395\u001b[0m, in \u001b[0;36mWebElement._execute\u001b[0;34m(self, command, params)\u001b[0m\n\u001b[1;32m    393\u001b[0m     params \u001b[39m=\u001b[39m {}\n\u001b[1;32m    394\u001b[0m params[\u001b[39m\"\u001b[39m\u001b[39mid\u001b[39m\u001b[39m\"\u001b[39m] \u001b[39m=\u001b[39m \u001b[39mself\u001b[39m\u001b[39m.\u001b[39m_id\n\u001b[0;32m--> 395\u001b[0m \u001b[39mreturn\u001b[39;00m \u001b[39mself\u001b[39;49m\u001b[39m.\u001b[39;49m_parent\u001b[39m.\u001b[39;49mexecute(command, params)\n",
      "File \u001b[0;32m/Library/Frameworks/Python.framework/Versions/3.12/lib/python3.12/site-packages/selenium/webdriver/remote/webdriver.py:347\u001b[0m, in \u001b[0;36mWebDriver.execute\u001b[0;34m(self, driver_command, params)\u001b[0m\n\u001b[1;32m    345\u001b[0m response \u001b[39m=\u001b[39m \u001b[39mself\u001b[39m\u001b[39m.\u001b[39mcommand_executor\u001b[39m.\u001b[39mexecute(driver_command, params)\n\u001b[1;32m    346\u001b[0m \u001b[39mif\u001b[39;00m response:\n\u001b[0;32m--> 347\u001b[0m     \u001b[39mself\u001b[39;49m\u001b[39m.\u001b[39;49merror_handler\u001b[39m.\u001b[39;49mcheck_response(response)\n\u001b[1;32m    348\u001b[0m     response[\u001b[39m\"\u001b[39m\u001b[39mvalue\u001b[39m\u001b[39m\"\u001b[39m] \u001b[39m=\u001b[39m \u001b[39mself\u001b[39m\u001b[39m.\u001b[39m_unwrap_value(response\u001b[39m.\u001b[39mget(\u001b[39m\"\u001b[39m\u001b[39mvalue\u001b[39m\u001b[39m\"\u001b[39m, \u001b[39mNone\u001b[39;00m))\n\u001b[1;32m    349\u001b[0m     \u001b[39mreturn\u001b[39;00m response\n",
      "File \u001b[0;32m/Library/Frameworks/Python.framework/Versions/3.12/lib/python3.12/site-packages/selenium/webdriver/remote/errorhandler.py:229\u001b[0m, in \u001b[0;36mErrorHandler.check_response\u001b[0;34m(self, response)\u001b[0m\n\u001b[1;32m    227\u001b[0m         alert_text \u001b[39m=\u001b[39m value[\u001b[39m\"\u001b[39m\u001b[39malert\u001b[39m\u001b[39m\"\u001b[39m]\u001b[39m.\u001b[39mget(\u001b[39m\"\u001b[39m\u001b[39mtext\u001b[39m\u001b[39m\"\u001b[39m)\n\u001b[1;32m    228\u001b[0m     \u001b[39mraise\u001b[39;00m exception_class(message, screen, stacktrace, alert_text)  \u001b[39m# type: ignore[call-arg]  # mypy is not smart enough here\u001b[39;00m\n\u001b[0;32m--> 229\u001b[0m \u001b[39mraise\u001b[39;00m exception_class(message, screen, stacktrace)\n",
      "\u001b[0;31mElementClickInterceptedException\u001b[0m: Message: element click intercepted: Element <a class=\"paginate_button previous disabled\" aria-controls=\"item_list_dt\" data-dt-idx=\"0\" tabindex=\"0\" id=\"item_list_dt_previous\">...</a> is not clickable at point (34, 211). Other element would receive the click: <div id=\"div_empty2\" style=\"display: inline-block; position: absolute; height: 22px; width: 206px; z-index: 99; top: 201px; background-color: white; left: 21.8047px;\">...</div>\n  (Session info: chrome-headless-shell=121.0.6167.160)\nStacktrace:\n0   chromedriver                        0x0000000107106168 chromedriver + 4673896\n1   chromedriver                        0x00000001070fd9c3 chromedriver + 4639171\n2   chromedriver                        0x0000000106cf1fdd chromedriver + 397277\n3   chromedriver                        0x0000000106d44dee chromedriver + 736750\n4   chromedriver                        0x0000000106d42b6a chromedriver + 727914\n5   chromedriver                        0x0000000106d403ca chromedriver + 717770\n6   chromedriver                        0x0000000106d3f1a5 chromedriver + 713125\n7   chromedriver                        0x0000000106d326a7 chromedriver + 661159\n8   chromedriver                        0x0000000106d608c2 chromedriver + 850114\n9   chromedriver                        0x0000000106d32038 chromedriver + 659512\n10  chromedriver                        0x0000000106d60a7e chromedriver + 850558\n11  chromedriver                        0x0000000106d7f796 chromedriver + 976790\n12  chromedriver                        0x0000000106d60663 chromedriver + 849507\n13  chromedriver                        0x0000000106d301cf chromedriver + 651727\n14  chromedriver                        0x0000000106d311ae chromedriver + 655790\n15  chromedriver                        0x00000001070c6380 chromedriver + 4412288\n16  chromedriver                        0x00000001070cb798 chromedriver + 4433816\n17  chromedriver                        0x00000001070aad71 chromedriver + 4300145\n18  chromedriver                        0x00000001070cc4e6 chromedriver + 4437222\n19  chromedriver                        0x000000010709cd3c chromedriver + 4242748\n20  chromedriver                        0x00000001070ec208 chromedriver + 4567560\n21  chromedriver                        0x00000001070ec3be chromedriver + 4567998\n22  chromedriver                        0x00000001070fd603 chromedriver + 4638211\n23  libsystem_pthread.dylib             0x00007ff80916a1d3 _pthread_start + 125\n24  libsystem_pthread.dylib             0x00007ff809165bd3 thread_start + 15\n"
     ]
    }
   ],
   "source": [
    "# create a WebDriverWait object \n",
    "wait = WebDriverWait(driver, 10)  # 10 seconds wait time\n",
    "\n",
    "driver.get(flight_log_URL)\n",
    "flight_data_df = pd.DataFrame(columns=['Page URL', 'CSV Filename', 'CSV download link']).set_index(pd.Index([], name='Time'))\n",
    "\n",
    "def handle_csv_download():\n",
    "    try:\n",
    "        csv_link = wait.until(EC.element_to_be_clickable((By.ID, \"csv_link\")))\n",
    "        # If the CSV link found, click it to download the file\n",
    "        driver.execute_script(\"arguments[0].click();\", csv_link)\n",
    "    except TimeoutException:\n",
    "        print(\"CSV link not found for the current flight detail page.\")\n",
    "\n",
    "# Function to extract flight details to then be stored in the dataframe\n",
    "def process_flight_row(row):\n",
    "    flight_info = row.find_elements(By.TAG_NAME, \"td\")\n",
    "    if flight_info and flight_info[1].text != 'OVERVIEW':\n",
    "        flight_date_time_text = flight_info[1].text.replace('st', '').replace('nd', '').replace('rd', '').replace('th', '')\n",
    "        flight_dt_object = datetime.strptime(flight_date_time_text, \"%b %d, %Y %I:%M%p\")\n",
    "        flight_datetime_index = flight_dt_object.strftime('%Y-%m-%d %H:%M:%S')\n",
    "\n",
    "        # Open flight detail in a new tab\n",
    "        driver.execute_script(\"window.open(arguments[0]);\", flight_info[1].find_element(By.TAG_NAME, \"a\").get_attribute('href'))\n",
    "        driver.switch_to.window(driver.window_handles[1])\n",
    "        flight_URL = driver.current_url\n",
    "        \n",
    "        # extract the hyperlink for csv download\n",
    "        original_link_element = row.find_element(By.XPATH, \".//a[contains(@title, 'Download Original Flight Log File')]\")\n",
    "        csv_download_link = 'https://app.airdata.com/'+ original_link_element.get_attribute('href') \n",
    "        \n",
    "        csv_filename_format = flight_dt_object.strftime(\"%b-%dth-%Y-%I-%M%p\") + \"-Flight-Airdata.csv\"\n",
    "        \n",
    "        flight_data_df.loc[flight_datetime_index] = [flight_URL, csv_filename_format,csv_download_link]\n",
    "        driver.close()  # Close the current tab\n",
    "        driver.switch_to.window(driver.window_handles[0])  # Switch back to the main tab\n",
    "\n",
    "# iterate through the sidebar\n",
    "for i in range(1, 4):  \n",
    "    next_button = wait.until(EC.element_to_be_clickable((By.CSS_SELECTOR, f\"#item_list_dt_paginate .paginate_button:nth-child({i})\")))\n",
    "    next_button.click()\n",
    "    wait.until(EC.visibility_of_element_located((By.CSS_SELECTOR, \"#item_list_dt tbody tr\")))\n",
    "    flight_log_rows = wait.until(EC.presence_of_all_elements_located((By.CSS_SELECTOR, \"#item_list_dt tbody tr\")))\n",
    "\n",
    "    # now iterate through the row of links to each flight log\n",
    "    for row in flight_log_rows:\n",
    "        process_flight_row(row)\n",
    "    # Optional: Add a short pause to ensure the page has fully loaded and to avoid being detected as a bot\n",
    "    time.sleep(2)\n",
    "    \n",
    "flight_data_df.head()      "
   ]
  },
  {
   "cell_type": "markdown",
   "metadata": {},
   "source": []
  },
  {
   "cell_type": "code",
   "execution_count": null,
   "metadata": {},
   "outputs": [
    {
     "data": {
      "text/plain": [
       "66"
      ]
     },
     "execution_count": 13,
     "metadata": {},
     "output_type": "execute_result"
    }
   ],
   "source": [
    "num_pages = flight_data_df.shape[0]\n",
    "num_pages # check that all pages have beben included"
   ]
  },
  {
   "cell_type": "code",
   "execution_count": null,
   "metadata": {},
   "outputs": [],
   "source": [
    "next_button = wait.until(EC.element_to_be_clickable((By.CSS_SELECTOR, f\"#item_list_dt_paginate .paginate_button:nth-child({i+2})\")))\n",
    "next_button.click()  "
   ]
  },
  {
   "cell_type": "code",
   "execution_count": null,
   "metadata": {},
   "outputs": [],
   "source": [
    "# debugging... \n",
    "driver.get('https://app.airdata.com/flight/7bfdbc1996afe83aa106bf5ed2207e0e/GENERALOverview')"
   ]
  },
  {
   "cell_type": "code",
   "execution_count": null,
   "metadata": {},
   "outputs": [],
   "source": [
    "csv_link = WebDriverWait(driver, 10).until(EC.element_to_be_clickable((By.ID, \"csv_link\")))\n",
    "csv_link.click()"
   ]
  },
  {
   "cell_type": "code",
   "execution_count": null,
   "metadata": {},
   "outputs": [],
   "source": []
  }
 ],
 "metadata": {
  "kernelspec": {
   "display_name": "Python 3",
   "language": "python",
   "name": "python3"
  },
  "language_info": {
   "codemirror_mode": {
    "name": "ipython",
    "version": 3
   },
   "file_extension": ".py",
   "mimetype": "text/x-python",
   "name": "python",
   "nbconvert_exporter": "python",
   "pygments_lexer": "ipython3",
   "version": "3.12.0"
  }
 },
 "nbformat": 4,
 "nbformat_minor": 2
}
